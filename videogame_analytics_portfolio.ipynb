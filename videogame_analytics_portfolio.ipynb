{
 "cells": [
  {
   "cell_type": "markdown",
   "id": "249f67df",
   "metadata": {},
   "source": [
    "\n",
    "# 🎮 Análise de Dados de Jogos de Videogame\n",
    "\n",
    "Este projeto faz parte do meu portfólio de Análise de Dados (Google Data Analytics Certificate).  \n",
    "O objetivo é explorar dados de vendas de videogames para descobrir:\n",
    "\n",
    "- Quais gêneros e plataformas vendem mais.  \n",
    "- Como as vendas evoluíram ao longo dos anos.  \n",
    "- Se existe relação entre notas críticas e vendas.  \n",
    "\n",
    "O conjunto de dados utilizado é o **Video Game Sales Dataset** disponível no Kaggle.\n",
    "    "
   ]
  },
  {
   "cell_type": "code",
   "execution_count": null,
   "id": "644838e3",
   "metadata": {},
   "outputs": [],
   "source": [
    "\n",
    "import pandas as pd\n",
    "import matplotlib.pyplot as plt\n",
    "import seaborn as sns\n",
    "\n",
    "plt.style.use(\"seaborn-v0_8-whitegrid\")\n",
    "sns.set_palette(\"pastel\")\n",
    "\n",
    "# Importar o dataset\n",
    "df = pd.read_csv(\"/kaggle/input/videogamesales/vgsales.csv\")\n",
    "df.head()\n",
    "    "
   ]
  },
  {
   "cell_type": "code",
   "execution_count": null,
   "id": "ff0d3ed1",
   "metadata": {},
   "outputs": [],
   "source": [
    "\n",
    "df.info()\n",
    "df.describe()\n",
    "df.isnull().sum()\n",
    "    "
   ]
  },
  {
   "cell_type": "markdown",
   "id": "521f3aea",
   "metadata": {},
   "source": [
    "\n",
    "### Observações\n",
    "- Verifique quais colunas têm valores ausentes (ex: Year, Publisher).  \n",
    "- Decida se vai preencher, remover ou ignorar esses dados.  \n",
    "- Entenda o formato dos dados antes de limpá-los.\n",
    "    "
   ]
  },
  {
   "cell_type": "code",
   "execution_count": null,
   "id": "4d8368e6",
   "metadata": {},
   "outputs": [],
   "source": [
    "\n",
    "df = df.dropna()\n",
    "df[\"Year\"] = df[\"Year\"].astype(int)\n",
    "\n",
    "df = df.rename(columns={\n",
    "    \"Name\": \"Game\",\n",
    "    \"Platform\": \"Console\",\n",
    "    \"Year\": \"Ano\",\n",
    "    \"Genre\": \"Genero\",\n",
    "    \"Global_Sales\": \"VendasGlobais\"\n",
    "})\n",
    "\n",
    "df.head()\n",
    "    "
   ]
  },
  {
   "cell_type": "markdown",
   "id": "5ce64e7f",
   "metadata": {},
   "source": [
    "\n",
    "### Explicação\n",
    "- Removemos valores nulos para evitar erros em análises.  \n",
    "- Converti o tipo da coluna \"Year\" para inteiro.  \n",
    "- Renomeei colunas para facilitar leitura em português.\n",
    "    "
   ]
  },
  {
   "cell_type": "code",
   "execution_count": null,
   "id": "b5edfdf1",
   "metadata": {},
   "outputs": [],
   "source": [
    "\n",
    "plt.figure(figsize=(10,5))\n",
    "top_genres = df.groupby(\"Genero\")[\"VendasGlobais\"].sum().sort_values(ascending=False).head(10)\n",
    "sns.barplot(x=top_genres.values, y=top_genres.index)\n",
    "plt.title(\"Top 10 Gêneros Mais Vendidos Globalmente\")\n",
    "plt.xlabel(\"Vendas (em milhões)\")\n",
    "plt.ylabel(\"Gênero\")\n",
    "plt.show()\n",
    "    "
   ]
  },
  {
   "cell_type": "code",
   "execution_count": null,
   "id": "8dbaaf90",
   "metadata": {},
   "outputs": [],
   "source": [
    "\n",
    "sales_per_year = df.groupby(\"Ano\")[\"VendasGlobais\"].sum()\n",
    "sales_per_year.plot(kind=\"line\", figsize=(10,5), marker='o')\n",
    "plt.title(\"Evolução das Vendas Globais de Jogos (por Ano)\")\n",
    "plt.xlabel(\"Ano de Lançamento\")\n",
    "plt.ylabel(\"Vendas (milhões)\")\n",
    "plt.show()\n",
    "    "
   ]
  },
  {
   "cell_type": "code",
   "execution_count": null,
   "id": "e0dc263f",
   "metadata": {},
   "outputs": [],
   "source": [
    "\n",
    "top_platforms = df.groupby(\"Console\")[\"VendasGlobais\"].sum().sort_values(ascending=False).head(10)\n",
    "sns.barplot(x=top_platforms.values, y=top_platforms.index)\n",
    "plt.title(\"Top 10 Plataformas Mais Vendidas\")\n",
    "plt.xlabel(\"Vendas Globais (milhões)\")\n",
    "plt.ylabel(\"Plataforma\")\n",
    "plt.show()\n",
    "    "
   ]
  },
  {
   "cell_type": "markdown",
   "id": "f9a95126",
   "metadata": {},
   "source": [
    "\n",
    "### Interpretação\n",
    "- Gêneros de **Ação** e **Esporte** aparecem no topo.  \n",
    "- O pico de vendas ocorreu entre 2008 e 2010.  \n",
    "- **PS2**, **Wii** e **Xbox 360** foram as plataformas mais lucrativas.\n",
    "    "
   ]
  },
  {
   "cell_type": "code",
   "execution_count": null,
   "id": "d2360016",
   "metadata": {},
   "outputs": [],
   "source": [
    "\n",
    "if \"Critic_Score\" in df.columns:\n",
    "    plt.figure(figsize=(8,5))\n",
    "    sns.scatterplot(x=\"Critic_Score\", y=\"VendasGlobais\", data=df, alpha=0.6)\n",
    "    plt.title(\"Correlação entre Nota Crítica e Vendas Globais\")\n",
    "    plt.xlabel(\"Nota Crítica\")\n",
    "    plt.ylabel(\"Vendas Globais (milhões)\")\n",
    "    plt.show()\n",
    "    "
   ]
  },
  {
   "cell_type": "markdown",
   "id": "43564b00",
   "metadata": {},
   "source": [
    "\n",
    "Observa-se uma tendência de que jogos com notas mais altas têm maiores vendas,  \n",
    "mas o sucesso comercial nem sempre depende apenas da crítica.\n",
    "    "
   ]
  },
  {
   "cell_type": "markdown",
   "id": "aaa90fc2",
   "metadata": {},
   "source": [
    "\n",
    "## 🧩 Conclusões\n",
    "\n",
    "- Os gêneros **Ação** e **Esporte** lideram as vendas globais.  \n",
    "- O período entre **2008 e 2010** foi o auge da indústria.  \n",
    "- **PlayStation 2** foi a plataforma mais lucrativa de todos os tempos.\n",
    "\n",
    "## 🔮 Próximos Passos\n",
    "\n",
    "- Atualizar o dataset com jogos mais recentes (pós-2020).  \n",
    "- Analisar vendas regionais e influência de marketing.  \n",
    "- Aplicar machine learning para prever sucesso de novos lançamentos.\n",
    "    "
   ]
  },
  {
   "cell_type": "markdown",
   "id": "d8917fe8",
   "metadata": {},
   "source": [
    "\n",
    "## 🌐 Publicação\n",
    "\n",
    "1. Publique o notebook no **Kaggle** como público.  \n",
    "2. Baixe o arquivo `.ipynb` e envie para o **GitHub**.  \n",
    "3. No `README.md` do repositório, adicione:\n",
    "\n",
    "```markdown\n",
    "# 🎮 Análise de Dados de Jogos de Videogame\n",
    "Este repositório contém uma análise exploratória feita com Python e pandas no Kaggle.\n",
    "```\n",
    "\n",
    "Pronto! Seu portfólio de Análise de Dados está completo e profissional 🚀\n",
    "    "
   ]
  }
 ],
 "metadata": {},
 "nbformat": 4,
 "nbformat_minor": 5
}